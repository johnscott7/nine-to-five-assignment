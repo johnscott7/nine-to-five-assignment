{
    "cells": [
        {
            "cell_type": "markdown",
            "metadata": {
                "azdata_cell_guid": "7ad962b3-fce2-439c-9ac4-460e1a79b0e8"
            },
            "source": [
                "# Graded Assignment 3: 9 to 5\n",
                "\n",
                "Time to show off your SQL skills! For each question, copy the SQL query you used and make note of the answer.\n",
                "\n",
                "## The Dataset\n",
                "\n",
                "For this assignment, you will be using the Bureau of Labor Statistics (BLS) Current Employment Survey (CES) results which can be found on [Kaggle](https://www.kaggle.com/datasets/bls/employment).\n",
                "\n",
                "## Business Issue\n",
                "\n",
                "You are working for the Bureau of Labor Statistics with the United States government and have been approached by your boss with an important meeting request. You have been asked by your supervisor to meet with Dolly Parton whose nonprofit is looking to shed light on the state of employment in the United States. As part of the 9 to 5 project, their research is focused on production and nonsupervisory employees and how those employees fare compared to all employees in the United States. While the data the BLS collects from the CES is publicly available, Dolly Parton and her colleagues need your assistance navigating the thousands of rows in each table in LaborStatisticsDB.\n",
                "\n",
                "## About the Dataset\n",
                "\n",
                "This dataset comes directly from the Bureau of Labor Statistics’ Current Employment Survey (CES). Here are some things you need to know:\n",
                "\n",
                "1. The industry table contains an NAICS code. This is different from the industry code. NAICS stands for North American Industry Classification System.\n",
                "1. Series ID is composed of multiple different codes. CES stands for Current Employment Survey, the name of the survey which collected the data. The industry code as specified by the BLS and the data type code as specified in the datatype table.\n",
                "\n",
                "## Set Up\n",
                "\n",
                "To connect to the database, use the same connection info used during the SQL lessons. \n",
                "\n",
                "For the assignment, we will be using `LaborStatisticsDB`."
            ]
        },
        {
            "cell_type": "markdown",
            "metadata": {
                "azdata_cell_guid": "dcbb5ae7-a9c8-4d48-8986-8a0f778cc6c6"
            },
            "source": [
                "## Database Exploration\n",
                "\n",
                "To start with, let’s get to know the database further.\n",
                "\n",
                "1. Use this space to make note of each table in the database, the columns within each table, each column’s data type, and how the tables are connected. You can write this down or draw a diagram. Whatever method helps you get an understanding of what is going on with `LaborStatisticsDB`.\n",
                "   \n",
                "   To add a photo, diagram or document to your file, drop the file into the folder that holds this notebook.  Use the link button to the right of the  </> symbol in the gray part of this cell, the link is just the name of your file."
            ]
        },
        {
            "cell_type": "markdown",
            "metadata": {},
            "source": [
                "![ER Diagram](./ER_Diagram.png)\n",
                "\n",
                "LaborStatisticsDB Table Relationships"
            ]
        },
        {
            "cell_type": "code",
            "execution_count": null,
            "metadata": {
                "azdata_cell_guid": "adb853fc-e2ab-416a-89f0-eb1d6f5b4af8",
                "language": "sql"
            },
            "outputs": [],
            "source": [
                "--This dataset comes from the Bureau of Labor Statistics and contains employment data for 2016 and 2017 in the United States.\n",
                "--There are nine total table contained in LaborStatisticsDB. The relationships between these tables are modeled in the above diagram. \n",
                "--Each table has a primary key, shown in bold and with a key symbol. Foreign keys within the tables are represented with the chain link symbol.\n",
                "--The series table is the most central table for this dataset, linking to six other tables within this dataset as follows:\n",
                "            --series connect to tables annual_2016 and january_2017 through the key series_id. \n",
                "            --series connects to the datatype table through the key data_type_code.\n",
                "            --series connects to the industry table through the key industry_code.\n",
                "            --series connects to the supersector table through the key supersector_code.\n",
                "            --series references the seasonal table through the key seasonal_code to determine whether data is seasonally adjusted.\n",
                "\n",
                "--The period table connects to tables annual_2016 and january_2017 through the key period_code via the period columns. This can be used to group data by month of the year."
            ]
        },
        {
            "cell_type": "markdown",
            "metadata": {
                "azdata_cell_guid": "87e95d63-f756-4afc-98d9-ed1dcfb95466"
            },
            "source": [
                "2. What is the datatype for women employees?"
            ]
        },
        {
            "cell_type": "code",
            "execution_count": null,
            "metadata": {
                "azdata_cell_guid": "e695b98b-25ed-4bec-8407-6f060e711df1",
                "language": "sql"
            },
            "outputs": [],
            "source": [
                "--The datatype code for women employees can be viewed with a quick scan of the Series table. However, to accomplish this with a query: \n",
                "\n",
                "Select series_title, data_type_code\n",
                "FROM dbo.series\n",
                "Where series_title = 'Women employees'\n",
                "\n",
                "--Answer: The data_type_code for women employees is 10."
            ]
        },
        {
            "cell_type": "markdown",
            "metadata": {
                "azdata_cell_guid": "5e72355c-a069-483d-8e57-33c8244e54d3"
            },
            "source": [
                "3. What is the series id for  women employees in the commercial banking industry in the financial activities supersector?"
            ]
        },
        {
            "cell_type": "code",
            "execution_count": null,
            "metadata": {
                "azdata_cell_guid": "3ecf48c5-07bb-4063-aef5-96b4212f5150",
                "language": "sql"
            },
            "outputs": [],
            "source": [
                "--From inspecting the series table, it appears that \n",
                "--series_id is equal to CE+[seasonal code]+[industry code]+[data_type_code]\n",
                "--In order to return the correct series_id, we can run this query:\n",
                "\n",
                "SELECT DISTINCT *\n",
                "FROM dbo.series as se\n",
                "JOIN dbo.supersector as su\n",
                "    ON se.supersector_code = su.supersector_code\n",
                "JOIN dbo.industry as i\n",
                "    ON se.industry_code = i.industry_code\n",
                "WHERE su.supersector_name = 'financial activities'\n",
                "    AND i.industry_name = 'commercial banking'\n",
                "    AND se.data_type_code = 10;\n",
                "\n",
                "--There are two series ids for this question. One seasonally adjusted (S), one not seasonally adjusted (U).\n",
                "--Answer: CES5552211010 and CEU5552211010\n"
            ]
        },
        {
            "cell_type": "markdown",
            "metadata": {
                "azdata_cell_guid": "44ff5801-e75c-405f-bba2-e4f864356f0a"
            },
            "source": [
                "## Aggregate Your Friends and Code some SQL\n",
                "\n",
                "Put together the following:\n",
                "\n",
                "1. How many employees were reported in 2016 in all industries? Round to the nearest whole number."
            ]
        },
        {
            "cell_type": "code",
            "execution_count": null,
            "metadata": {
                "azdata_cell_guid": "2f2aa59f-b6c5-470f-9f72-8bc0ec5178ab",
                "language": "sql"
            },
            "outputs": [],
            "source": [
                "--As shown the datatype table, data_type_code 1 filters for all employees.\n",
                "--As shown in the supersector table, supersector_code 0 represents all nonfarm employees. Filtering on this reduces industry duplicates (eg, 'mining and logging', 'mining', and 'logging').\n",
                "--annual_2016 also contains duplicates of every row as this data table pulled data from both \"ce.data.0.AllCESSeries.csv\" and \"ce.data.0.AllCESSeries.csv\". This is de-duplicated using a subquery on year and period.\n",
                "--Note: Final value is multiplied by 1000 to account for how BLS annual values are reported\n",
                "\n",
                "SELECT ROUND((SUM(value)*1000), 0) AS total_employees\n",
                "FROM (SELECT DISTINCT series_id, value\n",
                "    FROM dbo.annual_2016\n",
                "    WHERE year = 2016\n",
                "    AND period = 'M13') AS a\n",
                "JOIN dbo.series as s\n",
                "    ON a.series_id = s.series_id\n",
                "WHERE s.data_type_code = 1\n",
                "    AND s.supersector_code = 0\n",
                "\n",
                "--Answer: \n",
                "--Total nonfarm employment for 2016 (not seasonally adjusted): 144,306,000 employees"
            ]
        },
        {
            "cell_type": "markdown",
            "metadata": {
                "azdata_cell_guid": "29d32b99-da7f-4c98-b757-ff3704d136e8"
            },
            "source": [
                "2. How many women employees were reported in 2016 in all industries? Round to the nearest whole number. "
            ]
        },
        {
            "cell_type": "code",
            "execution_count": null,
            "metadata": {
                "azdata_cell_guid": "6e478ad7-1a7e-460c-8000-1e6c10373731",
                "language": "sql"
            },
            "outputs": [],
            "source": [
                "--This will be the same query as above, with the data_type_code adjusted to '10', which we know from question 2 above.\n",
                "\n",
                "SELECT ROUND((SUM(value)*1000), 0) AS total_women_employees\n",
                "FROM (SELECT DISTINCT series_id, value\n",
                "    FROM dbo.annual_2016\n",
                "    WHERE year = 2016\n",
                "    AND period = 'M13') AS a\n",
                "JOIN dbo.series as s\n",
                "    ON a.series_id = s.series_id\n",
                "WHERE s.data_type_code = 10\n",
                "    AND s.supersector_code = 0\n",
                "\n",
                "--Answer:\n",
                "--Total nonfarm women employment for 2016 (not seasonally adjusted): 71,492,000 women employees\n"
            ]
        },
        {
            "cell_type": "markdown",
            "metadata": {
                "azdata_cell_guid": "6b173ff0-3ec9-45b1-b9c1-08351f9ae595"
            },
            "source": [
                "3. How many production/nonsupervisory employees were reported in 2016? Round to the nearest whole number. "
            ]
        },
        {
            "cell_type": "code",
            "execution_count": null,
            "metadata": {
                "azdata_cell_guid": "8532a572-5cd6-4d06-b770-c3f1c7c4e8b2",
                "language": "sql"
            },
            "outputs": [],
            "source": [
                "--Using the same query with the data_type_code adjusted to '6' for 'production and nonsupervisory roles' gives a NULL output.\n",
                "--BLS does not report production/nonsupervisory employees in the overall report as these positions are not counted in government roles. \n",
                "--Change supersector_code to private industry only ('5') to get an accurate total.\n",
                "\n",
                "SELECT ROUND((SUM(value)*1000), 0) AS total_women_employees\n",
                "FROM (SELECT DISTINCT series_id, value\n",
                "    FROM dbo.annual_2016\n",
                "    WHERE year = 2016\n",
                "    AND period = 'M13') AS a\n",
                "JOIN dbo.series as s\n",
                "    ON a.series_id = s.series_id\n",
                "WHERE s.data_type_code = 6\n",
                "    AND s.supersector_code = 5\n",
                "\n",
                "--Answer:\n",
                "--Total production and nonsupervisory employment for 2016 (not seasonally adjusted): 100,531,000 employees\n",
                "\n"
            ]
        },
        {
            "cell_type": "markdown",
            "metadata": {
                "azdata_cell_guid": "f0e5cd3c-1e07-4718-858f-026045a0a438"
            },
            "source": [
                "4. In January 2017, what is the average weekly hours worked by production and nonsupervisory employees across all industries?"
            ]
        },
        {
            "cell_type": "code",
            "execution_count": null,
            "metadata": {
                "azdata_cell_guid": "ed56d1e6-8622-4b43-923f-6892977b3409",
                "language": "sql"
            },
            "outputs": [],
            "source": [
                "--Use the previous query as a starting point\n",
                "--Replace annual_2016 table with annual_2017 table, update de-duplicating conditions to year = 2017, period = M01\n",
                "--Change data_type_code to 7 for average weekly hours of production and nonsupervisory employees\n",
                "--Remove the SUM since the value presented already reprsents an average\n",
                "\n",
                "SELECT value, series_title, seasonal\n",
                "FROM (SELECT DISTINCT series_id, value\n",
                "    FROM dbo.january_2017\n",
                "    WHERE year = 2017\n",
                "    AND period = 'M01') AS j\n",
                "JOIN dbo.series as s\n",
                "    ON j.series_id = s.series_id\n",
                "WHERE s.data_type_code = 7\n",
                "    AND s.supersector_code = 5\n",
                "\n",
                "--Answer:\n",
                "--33.5 average weekly hours worked by production and nonsupervisory employess across all industries (Not Seasonally Adjusted)\n",
                "--33.6 average weekly hours worked by production and nonsupervisory employess across all industries (Seasonally adjusted)"
            ]
        },
        {
            "cell_type": "markdown",
            "metadata": {
                "azdata_cell_guid": "8b6d0663-d4c3-4420-99ed-1c99f1d1942c"
            },
            "source": [
                "5. What is the total weekly payroll for production and nonsupervisory employees across all industries in January 2017? Round to the nearest penny."
            ]
        },
        {
            "cell_type": "code",
            "execution_count": null,
            "metadata": {
                "azdata_cell_guid": "aba326a4-ea96-472e-9b4d-fff929aedc13",
                "language": "sql"
            },
            "outputs": [],
            "source": [
                "--Use the previous query as a starting point\n",
                "--Change data_type_code to 82, which is an aggregate of weekly payroll for production and nonspuervisory employees across all industries.\n",
                "--Round and cast the value, multiply by 1000 to account for BLS reporting in thousands\n",
                "\n",
                "SELECT CAST(ROUND(value * 1000, 2) AS DECIMAL(20,2)) AS total_payroll, series_title, seasonal\n",
                "FROM (SELECT DISTINCT series_id, value\n",
                "    FROM dbo.january_2017\n",
                "    WHERE year = 2017\n",
                "    AND period = 'M01') AS j\n",
                "JOIN dbo.series as s\n",
                "    ON j.series_id = s.series_id\n",
                "WHERE s.data_type_code = 82\n",
                "    AND s.supersector_code = 5\n",
                "\n",
                "--Answer:\n",
                "--$73,474,302,000 total weekly payroll of production and nonsupervisory employess across all industries (Not Seasonally Adjusted)\n",
                "--$74,498,171,000 total weekly payroll of production and nonsupervisory employess across all industries (Seasonally adjusted)"
            ]
        },
        {
            "cell_type": "markdown",
            "metadata": {
                "azdata_cell_guid": "cdc4508a-a76c-4e36-a816-3c26ef47e710"
            },
            "source": [
                "6. In January 2017, for which industry was the average weekly hours worked by production and nonsupervisory employees the highest? Which industry was the lowest?"
            ]
        },
        {
            "cell_type": "code",
            "execution_count": null,
            "metadata": {
                "azdata_cell_guid": "a6758e01-7ca6-43af-b8b8-04b8120c8a49",
                "language": "sql"
            },
            "outputs": [],
            "source": [
                "--Can be achieved using the previous query as a starting point, and joining industry table on industry code\n",
                "--Filter join on data_type_code 7 for average weekly hours of production and nonsupervisory employees\n",
                "\n",
                "SELECT TOP 1 value, industry_name\n",
                "FROM (SELECT DISTINCT series_id, value\n",
                "    FROM dbo.january_2017\n",
                "    WHERE year = 2017\n",
                "    AND period = 'M01') AS j\n",
                "JOIN dbo.series as s\n",
                "    ON j.series_id = s.series_id\n",
                "JOIN dbo.industry as i\n",
                "    ON i.industry_code = s.industry_code\n",
                "    WHERE s.data_type_code = 7\n",
                "ORDER BY value DESC;\n",
                "\n",
                "--For lowest, use same query, swap out descending order for ascending\n",
                "\n",
                "SELECT TOP 1 value, industry_name\n",
                "FROM (SELECT DISTINCT series_id, value\n",
                "    FROM dbo.january_2017\n",
                "    WHERE year = 2017\n",
                "    AND period = 'M01') AS j\n",
                "JOIN dbo.series as s\n",
                "    ON j.series_id = s.series_id\n",
                "JOIN dbo.industry as i\n",
                "    ON i.industry_code = s.industry_code\n",
                "    WHERE s.data_type_code = 7\n",
                "ORDER BY value ASC;\n",
                "\n",
                "--Answers:\n",
                "--For January 2017, the highest average weekly hours worked by production and nonsupervisory employees was in the Motor vehicle power train components industry, at 49.8 hours, seasonally adjusted. (Phheww, that's a hard-earned weekend)\n",
                "--For January 2017, the lowest average weekly hours worked by production and nonsupervisory employees was in the Fitness and recreational sport centers industry, at 16.7 hours, not seasonally adjusted."
            ]
        },
        {
            "cell_type": "markdown",
            "metadata": {
                "azdata_cell_guid": "328915a2-60d5-4c87-b6c2-8e55fab39af3"
            },
            "source": [
                "7. In January 2017, for which industry was the total weekly payroll for production and nonsupervisory employees the highest? Which industry was the lowest?"
            ]
        },
        {
            "cell_type": "code",
            "execution_count": null,
            "metadata": {
                "azdata_cell_guid": "f3985220-b4b7-46f3-ba1a-e041a87be58b",
                "language": "sql"
            },
            "outputs": [],
            "source": [
                "--Can be achieved using the previous query as a starting point, and swapping out data_type_code 7 for 82 (aggregate weekly payroll of production and nonsupervisory employees)\n",
                "--The initial outputs for this query were too broad ('Total private', 'Professional and Business Services', etc). Add a filter for 'display level'.\n",
                "--display_level ranges from 1-7, if further granularity is desired, increase display level cut-off in the query. I used display_level 4, as this is the midpoint for the NAICS range.\n",
                "\n",
                "SELECT industry_name, (value * 1000) AS total_weekly_payroll\n",
                "FROM (SELECT DISTINCT series_id, value\n",
                "    FROM dbo.january_2017\n",
                "    WHERE year = 2017\n",
                "    AND period = 'M01') AS j\n",
                "JOIN dbo.series as s\n",
                "    ON j.series_id = s.series_id\n",
                "JOIN dbo.industry as i\n",
                "    ON i.industry_code = s.industry_code\n",
                "    WHERE s.data_type_code = 82\n",
                "    AND i.display_level >= 4\n",
                "ORDER BY value DESC;\n",
                "\n",
                "--For lowest, use same query, swap out descending order for ascending\n",
                "\n",
                "SELECT industry_name, (value * 1000) AS total_weekly_payroll\n",
                "FROM (SELECT DISTINCT series_id, value\n",
                "    FROM dbo.january_2017\n",
                "    WHERE year = 2017\n",
                "    AND period = 'M01') AS j\n",
                "JOIN dbo.series as s\n",
                "    ON j.series_id = s.series_id\n",
                "JOIN dbo.industry as i\n",
                "    ON i.industry_code = s.industry_code\n",
                "    WHERE s.data_type_code = 82\n",
                "    AND i.display_level >= 4\n",
                "ORDER BY value ASC;\n",
                "\n",
                "--Answers:\n",
                "--For January 2017, the highest total weekly payroll for production and nonsupervisory employees was in the industry categorized as 'Hospitals', at $5,105,336,000, not seasonally adjusted.\n",
                "--For January 2017, the lowest total weekly payroll for production and nonsupervisory employees was in the industry categorized as 'Coin-operated laundries and drycleaners', at $10,079,000, not seasonally adjusted.\n"
            ]
        },
        {
            "cell_type": "markdown",
            "metadata": {
                "azdata_cell_guid": "9c5c9cb4-4376-4645-bf52-c359bad1853e"
            },
            "source": [
                "## Join in on the Fun\n",
                "\n",
                "Time to start joining! You can choose the type of join you use, just make sure to make a  note!\n",
                "\n",
                "1. Join `annual_2016` with `series` on `series_id`. We only want the data in the `annual_2016` table to be included in the result."
            ]
        },
        {
            "cell_type": "code",
            "execution_count": null,
            "metadata": {
                "azdata_cell_guid": "6c1fad5a-9af5-4ebe-b7bf-eb611688cb14",
                "language": "sql"
            },
            "outputs": [
                {
                    "data": {
                        "text/html": [
                            "Commands completed successfully."
                        ]
                    },
                    "metadata": {},
                    "output_type": "display_data"
                },
                {
                    "data": {
                        "text/html": [
                            "Total execution time: 00:00:00.019"
                        ]
                    },
                    "metadata": {},
                    "output_type": "display_data"
                }
            ],
            "source": [
                "SELECT TOP 50 \n",
                "    a.id, a.series_id, a.year, a.period, a.VALUE\n",
                "    s.series_title, s.data_type_code, s.industry_code, s.seasonal\n",
                "FROM dbo.annual_2016 AS a\n",
                "LEFT JOIN dbo.series AS s\n",
                "    ON a.series_id = s.series_id\n",
                "ORDER BY a.id\n",
                "\n",
                "--LEFT JOIN to keep only annual_2016 data\n",
                "--Specified ORDER BY id as from a.id"
            ]
        },
        {
            "cell_type": "markdown",
            "metadata": {
                "azdata_cell_guid": "f0eefde2-fd6e-4cef-9426-3979c59ac61e"
            },
            "source": [
                "2. Join `series` and `datatype` on `data_type_code`."
            ]
        },
        {
            "cell_type": "code",
            "execution_count": null,
            "metadata": {
                "azdata_cell_guid": "0850cbeb-06f8-4b15-9f87-7a9ca7a87e91",
                "language": "sql"
            },
            "outputs": [],
            "source": [
                "SELECT TOP 50\n",
                "    s.series_id, s.data_type_code, d.data_type_text\n",
                "FROM dbo.series AS s\n",
                "INNER OIN dbo.datatype AS d\n",
                "    ON d.data_type_code = s.data_type_code\n",
                "ORDER BY s.series_id\n",
                "\n",
                "--INNER JOIN since the datatype table is a lookup table (adding definitions to the series data)\n",
                "--Changed 'ORDER BY id' to 'ORDER BY s.series_id' as there is no 'id' column in either of the tables we are joining here"
            ]
        },
        {
            "cell_type": "markdown",
            "metadata": {
                "azdata_cell_guid": "ada4ecfc-8180-4951-b013-1b4ad14bb2a9"
            },
            "source": [
                "3. Join `series` and `industry` on `industry_code`."
            ]
        },
        {
            "cell_type": "code",
            "execution_count": null,
            "metadata": {
                "azdata_cell_guid": "4eaf2035-ec13-4c15-960f-a40fe73dc34d",
                "language": "sql"
            },
            "outputs": [],
            "source": [
                "SELECT TOP 50\n",
                "    s.series_id, s.industry_code, i.industry_name, i.naics_code\n",
                "FROM dbo.series AS s\n",
                "INNER JOIN dbo.industry AS i\n",
                "    ON i.industry_code = s.industry_code\n",
                "ORDER BY i.id\n",
                "\n",
                "--INNER JOIN since the industry table is a lookup table (adding definitions to the series data)\n",
                "--Specified ORDER BY id as from i.id"
            ]
        },
        {
            "cell_type": "markdown",
            "metadata": {
                "azdata_cell_guid": "7111eeba-9ab9-45b9-a4c5-09b809c63907"
            },
            "source": [
                "## Subqueries, Unions, Derived Tables, Oh My!\n",
                "\n",
                "1. Write a query that returns the `series_id`, `industry_code`, `industry_name`, and `value` from the `january_2017` table but only if that value is greater than the average value for `annual_2016` of `data_type_code` 82."
            ]
        },
        {
            "cell_type": "code",
            "execution_count": null,
            "metadata": {
                "azdata_cell_guid": "b747aa95-d3d7-4843-9f1a-13aae6902e3a",
                "language": "sql"
            },
            "outputs": [],
            "source": [
                "--data_type_code 82 is aggregate weekly payrolls of production and nonsupervisory rolls. \n",
                "--First, create a subquery to determine the average weekly payroll across all industries for production and nonsupervisory staff across the year 2016.\n",
                "\n",
                "SELECT AVG(VALUE) AS avg_2016_weekly_payroll\n",
                "FROM dbo.annual_2016 AS a\n",
                "JOIN dbo.series AS s\n",
                "ON a.series_id = s.series_id\n",
                "WHERE data_type_code = 82\n",
                "AND s.seasonal = 'U';\n",
                "\n",
                "--Average 2016 weekly payroll (not seasonally adjusted) for all production and nonsupervisory staff is $819,960\n",
                "--Now, use this subquery to filter out industries with average weekly payrolls from january_2017 lower than the average 2016 value determined above.\n",
                "\n",
                "\n",
                "SELECT DISTINCT\n",
                "    j.series_id, s.industry_code, i.industry_name, j.value AS jan_2017_weekly_payrolls\n",
                "FROM dbo.january_2017 AS j\n",
                "JOIN dbo.series AS s\n",
                "    ON j.series_id = s.series_id\n",
                "JOIN dbo.industry AS i\n",
                "    ON s.industry_code = i.industry_code\n",
                "WHERE s.data_type_code = 82\n",
                "AND s.seasonal = 'U'\n",
                "AND j.value > (\n",
                "SELECT AVG(a.VALUE) AS avg_2016_weekly_payroll\n",
                "FROM dbo.annual_2016 AS a\n",
                "JOIN dbo.series AS s2\n",
                "    ON a.series_id = s2.series_id\n",
                "WHERE s2.data_type_code = 82\n",
                ")\n",
                "\n",
                "--This query outputs all industries where production and nonsupervisory staff had average weekly payrolls (not seasonally adjusted) in January 2017 that were higher than the average weekly payroll in 2016. \n",
                "--This represents industries that were thriving in the first month of 2017 compared to 2016, as represented by average weekly payrolls."
            ]
        },
        {
            "attachments": {},
            "cell_type": "markdown",
            "metadata": {
                "azdata_cell_guid": "21baa05a-e30c-4993-a63e-1e221bb27aa6",
                "language": "sql"
            },
            "source": [
                "**Optional Bonus Question:** Write the above query as a common table expression!"
            ]
        },
        {
            "cell_type": "code",
            "execution_count": null,
            "metadata": {
                "azdata_cell_guid": "a816a7e7-2175-446c-b4e4-4a3d6667d281",
                "language": "sql"
            },
            "outputs": [],
            "source": [
                "--Use the subquery developed earlier as a common table expression\n",
                "\n",
                "WITH weekly_payroll_cte AS (\n",
                "SELECT AVG(VALUE) AS avg_weekly_payroll\n",
                "FROM dbo.annual_2016 AS a\n",
                "JOIN dbo.series AS s\n",
                "ON a.series_id = s.series_id\n",
                "WHERE data_type_code = 82\n",
                ")\n",
                "SELECT\n",
                "    j.series_id, s.industry_code, i.industry_name, j.value AS jan_2017_weekly_payrolls\n",
                "FROM dbo.january_2017 AS j\n",
                "JOIN dbo.series AS s\n",
                "    ON j.series_id = s.series_id\n",
                "JOIN dbo.industry AS i\n",
                "    ON s.industry_code = i.industry_code\n",
                "WHERE s.data_type_code = 82\n",
                "AND j.value > (SELECT avg_weekly_payroll FROM weekly_payroll_cte)\n",
                "\n",
                "--This outputs an identical result to the subquery version from part 1."
            ]
        },
        {
            "cell_type": "markdown",
            "metadata": {
                "azdata_cell_guid": "661cb463-cf71-40cb-9d03-9bb37492e2d5"
            },
            "source": [
                "2. Create a `Union` table comparing average weekly earnings of production and nonsupervisory employees between `annual_2016` and `january_2017` using the data type 30.  Round to the nearest penny.  You should have a column for the average earnings and a column for the year, and the period."
            ]
        },
        {
            "cell_type": "code",
            "execution_count": null,
            "metadata": {
                "azdata_cell_guid": "327f3949-b20f-4c1e-a126-6005719bf8df",
                "language": "sql"
            },
            "outputs": [],
            "source": [
                "--data_type_code 30 represents average weekly earnings of production and nonsupervisory employees\n",
                "--Join the annual_2016 table with the series table, and join the january_2017 table with the series table, then union the outputs after filtering for data_type_code 30\n",
                "\n",
                "SELECT CAST(ROUND(a.value, 2) AS DECIMAL(12,2)) AS average_earnings, a.year, a.period\n",
                "FROM dbo.annual_2016 AS a\n",
                "JOIN dbo.series AS s\n",
                "    ON a.series_id = s.series_id\n",
                "WHERE s.data_type_code = 30\n",
                "\n",
                "UNION\n",
                "\n",
                "SELECT CAST(ROUND(j.value, 2) AS DECIMAL(12,2)) AS average_earnings, j.year, j.period\n",
                "FROM dbo.january_2017 AS j\n",
                "JOIN dbo.series AS s\n",
                "    ON j.series_id = s.series_id\n",
                "WHERE s.data_type_code = 30\n",
                "\n",
                "--This generates a table that includes average weekly earnings of production and nonsupervisory employees for all industries in both 2016 and January 2017."
            ]
        },
        {
            "cell_type": "markdown",
            "metadata": {
                "azdata_cell_guid": "cbda1089-6fdf-4b89-9651-54862cf7eb08"
            },
            "source": [
                "## Summarize Your Results\n",
                "\n",
                "With what you know now about the  Bureau of Labor Statistics (BLS) Current Employment Survey (CES) results and working with the Labor Statistics Database, answer the following questions. Note that while this is subjective, you should include relevant data to back up your opinion.\n",
                "\n",
                "1. During which time period did production and nonsupervisory employees fare better?"
            ]
        },
        {
            "cell_type": "markdown",
            "metadata": {
                "azdata_cell_guid": "ed5db53d-2fec-41a3-a9d3-367a676e6c02"
            },
            "source": [
                "To compare average weekly payrolls during the two time periods of January 2017 and 2016, I begain with the same query structure from Subqueries Part 1, and re-formatted it to calculate the average for January 2017 the same way we calculated for 2016. This query is shown below.\n",
                "\n",
                "This query reveals that the January 2017 average weekly payroll was \\$829,074. So, even though we found specific industries that saw payroll increases from 2016 to January 2017...\n",
                "we can conclude that production and nonsupervisory employees across all industries fared better in 2016 than they did in January 2017, to the tune of a \\$9,100 average weekly payroll decrease from 2016 to January 2017.\n"
            ]
        },
        {
            "cell_type": "code",
            "execution_count": null,
            "metadata": {},
            "outputs": [],
            "source": [
                "SELECT AVG(VALUE) AS jan_2017_weekly_payroll\n",
                "FROM dbo.january_2017 AS j\n",
                "JOIN dbo.series AS s\n",
                "ON j.series_id = s.series_id\n",
                "WHERE data_type_code = 82\n",
                "AND s.seasonal = 'U'\n",
                "----Average January 2017 weekly payroll (not seasonally adjusted) for all production and nonsupervisory staff is $829,074"
            ]
        },
        {
            "cell_type": "markdown",
            "metadata": {
                "azdata_cell_guid": "e0028946-9a7f-48ba-a14d-6685d55e9423"
            },
            "source": [
                "2. In which industries did production and nonsupervisory employees fare better?"
            ]
        },
        {
            "cell_type": "markdown",
            "metadata": {
                "azdata_cell_guid": "d1fc3b34-cee3-4565-8233-fbb225573974"
            },
            "source": [
                "In order to determine which industries fared better, I re-ran the earlier query from Subqueries Part 1 with an additional ORDER BY clause to sort by descending value. Then, I targeted industries that were within the same order of magnitude as the previously computed averages (\\$820k-\\$830k) to confirm we are comparing industries within similar NCAIS classification levels.\n",
                "\n",
                "A few industries with production and nonsupervisory employees that fared better than average include Grocery stores (\\$861,224 weekly payroll), Real estate (\\$865,620 weekly payroll), and Food manufacturing (\\$842,201 weekly payroll).\n",
                "\n",
                "It's worth noting that this analysis compares industry-specific weekly payroll averages against the industry-wide average. It might be more useful for future analyses to compare each industry's weekly payroll against those same industries' weekly payrolls from previous time periods, rather than using an average."
            ]
        },
        {
            "cell_type": "markdown",
            "metadata": {
                "azdata_cell_guid": "0db4c4b1-151b-43f8-9a7a-14d45e15a678"
            },
            "source": [
                "3. Now that you have explored the datasets, is there any data or information that you wish you had in this analysis?"
            ]
        },
        {
            "cell_type": "markdown",
            "metadata": {
                "azdata_cell_guid": "072f17a7-ad63-493a-934f-33660ae1d576"
            },
            "source": [
                "It would be nice to have datasets covering a wider range of time periods. A full dataset of the past 5-10 years would allow filtering by month using the 'period' column, which would enable me to determine which time periods have seen the strongest and weakest performance from the perpsective of average weekly payrolls. I would also like more information from the BLS detailing the industry hierarchies, as there is a lack of clarity for me around which industry classification levels are most suitable for these analyses, as discussed in Part 7 of the Database Exploration.\n",
                "\n",
                " Lastly, it would be useful to be able to pair the existing tables in this database with data that enables viewing these topics with a wider lens. For example, linking weekly payrolls to the Consumer Price Index (CPI) or the Gross Domestic Product (GDP) across different time periods would help standardize results against changes in cost of living and economic conditions, which could uncover some interesting insights."
            ]
        }
    ],
    "metadata": {
        "kernelspec": {
            "display_name": "SQL",
            "language": "sql",
            "name": "SQL"
        },
        "language_info": {
            "name": "sql",
            "version": ""
        }
    },
    "nbformat": 4,
    "nbformat_minor": 2
}
